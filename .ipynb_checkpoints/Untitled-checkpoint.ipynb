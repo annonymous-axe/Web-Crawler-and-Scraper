{
 "cells": [
  {
   "cell_type": "code",
   "execution_count": null,
   "id": "a3868df4-ed50-4c0b-885e-c0483c008cd3",
   "metadata": {},
   "outputs": [],
   "source": [
    "other_patterns = r'\\b\\b|\\bpopup\\b|\\bstate-selector\\b|\\bfiles\\b|\\blit\\b|\\bja\\b|\\bstatic-files\\b|\\btel:\\b|\\bdeveloper\\.\\b|\\bacademy\\b|\\bmodels\\b|\\bdocs\\b|direction|@|search|region_page/|form|account|logon|login|sign on|register|signin|signup|download|job|locator|location|document|lang|audio|\\.pdf|\\.jpg|\\.png|\\.gif|\\.mp3|\\.docx|\\.zip|\\.jpeg|\\.exe|\\.mp4'\n",
    "\n",
    "with open(\"stopwords.txt\", \"w\") as file:\n",
    "    file.write()"
   ]
  }
 ],
 "metadata": {
  "kernelspec": {
   "display_name": "Python 3 (ipykernel)",
   "language": "python",
   "name": "python3"
  },
  "language_info": {
   "codemirror_mode": {
    "name": "ipython",
    "version": 3
   },
   "file_extension": ".py",
   "mimetype": "text/x-python",
   "name": "python",
   "nbconvert_exporter": "python",
   "pygments_lexer": "ipython3",
   "version": "3.11.8"
  }
 },
 "nbformat": 4,
 "nbformat_minor": 5
}
